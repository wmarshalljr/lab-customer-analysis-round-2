{
 "cells": [
  {
   "cell_type": "code",
   "execution_count": null,
   "metadata": {},
   "outputs": [],
   "source": [
    "import pandas as pd\n",
    "import matplotlib.pyplot as plt\n",
    "import seaborn as sns \n",
    "import time\n",
    "from datetime import date"
   ]
  },
  {
   "cell_type": "markdown",
   "metadata": {},
   "source": [
    "# ROUND 2"
   ]
  },
  {
   "cell_type": "code",
   "execution_count": null,
   "metadata": {},
   "outputs": [],
   "source": [
    "# Instructions\n",
    "\n",
    "# Show the dataframe shape.\n",
    "# Standardize header names.\n",
    "# Which columns are numerical?\n",
    "# Which columns are categorical?\n",
    "# Check and deal with NaN values.\n",
    "# Datetime format - Extract the months from the dataset and store in a separate column. \n",
    "# Then filter the data to show only the information for the first quarter , ie. January, February and March. \n",
    "# Hint: If data from March does not exist, consider only January and February."
   ]
  },
  {
   "cell_type": "code",
   "execution_count": null,
   "metadata": {},
   "outputs": [],
   "source": [
    "data = pd.read_csv('marketing_customer_analysis.csv')\n",
    "\n",
    "data = data.drop(['Unnamed: 0'],axis=1)\n",
    "\n",
    "data # This also shows the shape (10910 x 25)"
   ]
  },
  {
   "cell_type": "code",
   "execution_count": null,
   "metadata": {},
   "outputs": [],
   "source": [
    "print(data.columns) # Look for standardized headers. The dataset headers seem okay already? Perhaps lowercase?\n",
    "\n",
    "cols = []\n",
    "for i in range(len(data.columns)):\n",
    "    cols.append(data.columns[i].lower())\n",
    "data.columns = cols\n",
    "\n",
    "data # To confirm the for loop worked on the headers"
   ]
  },
  {
   "cell_type": "code",
   "execution_count": null,
   "metadata": {},
   "outputs": [],
   "source": [
    "print(data.dtypes)\n",
    "\n",
    "# Categorical: All columns with 'object' type\n",
    "\n",
    "# Numerical: All columns with 'float64' and 'int64' types"
   ]
  },
  {
   "cell_type": "code",
   "execution_count": null,
   "metadata": {},
   "outputs": [],
   "source": [
    "sum(data.duplicated()) # check for duplicates\n",
    "\n",
    "data.drop_duplicates(inplace=True) # remove duplicates\n",
    "\n",
    "sum(data.duplicated()) # confirm that duplicates have been removed"
   ]
  },
  {
   "cell_type": "code",
   "execution_count": null,
   "metadata": {},
   "outputs": [],
   "source": [
    "# Looking at data for how to address null values\n",
    "\n",
    "data.isna().sum()"
   ]
  },
  {
   "cell_type": "code",
   "execution_count": null,
   "metadata": {},
   "outputs": [],
   "source": [
    "round(data.isna().sum()/len(data),4)*100  # shows the percentage of null values in a column\n",
    "nulls_df = pd.DataFrame(round(data.isna().sum()/len(data),4)*100)\n",
    "nulls_df\n",
    "nulls_df = nulls_df.reset_index()\n",
    "nulls_df\n",
    "nulls_df.columns = ['header_name', 'percent_nulls']\n",
    "nulls_df\n",
    "\n",
    "# Based on the outputs of null_df, I would prefer to remove the 'vehicle class' column altogether and drop rows with >0 nulls \n",
    "# (It's a large dataset so should not introduce any bias)"
   ]
  },
  {
   "cell_type": "code",
   "execution_count": null,
   "metadata": {},
   "outputs": [],
   "source": [
    "data['state'].value_counts() # Judging by this quick look at the data, probably best to just remove rows with NaN than to replace with data (especially since it is categorical)"
   ]
  },
  {
   "cell_type": "code",
   "execution_count": null,
   "metadata": {},
   "outputs": [],
   "source": [
    "data_clean = data = data.drop('vehicle type', axis=1) # First remove this column so the next command does not drop about 5,000 rows from the data set\n",
    "\n",
    "data_clean = data.dropna(axis=0) # This is the simplest and most effective to remove all rows with NaN \n",
    "\n",
    "data_clean.isna().sum() # Confirm NaNs are removed from the dataset"
   ]
  },
  {
   "cell_type": "code",
   "execution_count": null,
   "metadata": {},
   "outputs": [],
   "source": [
    "data_clean.reset_index(drop=True) # Make sure the new 'clean' dataset looks okay before proceeding"
   ]
  },
  {
   "cell_type": "code",
   "execution_count": null,
   "metadata": {},
   "outputs": [],
   "source": [
    "data_clean['effective to date'] = pd.to_datetime(data_clean['effective to date'], errors='coerce')\n",
    "\n",
    "data_clean['month'] = pd.DatetimeIndex(data_clean['effective to date']).month\n",
    "\n",
    "data_clean\n",
    "\n",
    "#data_clean.sort_values('effective to date') # Based on the df, it already only includes data from January and February??"
   ]
  },
  {
   "cell_type": "code",
   "execution_count": null,
   "metadata": {},
   "outputs": [],
   "source": [
    "data_clean_Q1 = data_clean[(data_clean['month']<4)]\n",
    "\n",
    "data_clean_Q1 # Confirming that only Q1 data is in the new dataset"
   ]
  },
  {
   "cell_type": "code",
   "execution_count": null,
   "metadata": {},
   "outputs": [],
   "source": [
    "# extract months from dataset and create new column"
   ]
  },
  {
   "cell_type": "markdown",
   "metadata": {},
   "source": [
    "# ROUND 3"
   ]
  },
  {
   "cell_type": "code",
   "execution_count": null,
   "metadata": {},
   "outputs": [],
   "source": [
    "# Instructions \n",
    "\n",
    "# EDA (Exploratory Data Analysis) - Complete the following tasks to explore the data:\n",
    "# Show DataFrame info.\n",
    "# Describe DataFrame.\n",
    "# Show a plot of the total number of responses.\n",
    "# Show a plot of the response rate by the sales channel.\n",
    "# Show a plot of the response rate by the total claim amount.\n",
    "# Show a plot of the response rate by income."
   ]
  },
  {
   "cell_type": "code",
   "execution_count": null,
   "metadata": {},
   "outputs": [],
   "source": [
    "data_clean.info()"
   ]
  },
  {
   "cell_type": "code",
   "execution_count": null,
   "metadata": {},
   "outputs": [],
   "source": [
    "data_clean.describe().T"
   ]
  },
  {
   "cell_type": "code",
   "execution_count": 110,
   "metadata": {},
   "outputs": [
    {
     "data": {
      "text/plain": [
       "<AxesSubplot:>"
      ]
     },
     "execution_count": 110,
     "metadata": {},
     "output_type": "execute_result"
    },
    {
     "data": {
      "image/png": "[encoded data removed]",
      "text/plain": [
       "<Figure size 432x288 with 1 Axes>"
      ]
     },
     "metadata": {
      "needs_background": "light"
     },
     "output_type": "display_data"
    }
   ],
   "source": [
    "response_count = data_clean['response'].value_counts()\n",
    "\n",
    "response_count.plot(kind='bar')"
   ]
  },
  {
   "cell_type": "code",
   "execution_count": null,
   "metadata": {},
   "outputs": [],
   "source": [
    "data_clean['response_binary'] = data_clean['response'].map({'Yes': 1, 'No': 0})\n",
    "\n",
    "data_clean.reset_index(drop=True) \n",
    "\n",
    "data_clean.head(10) # Test to make sure the map function passed the dictionary to the new list response_binary"
   ]
  },
  {
   "cell_type": "code",
   "execution_count": 169,
   "metadata": {},
   "outputs": [
    {
     "data": {
      "text/plain": [
       "<AxesSubplot:xlabel='response_binary'>"
      ]
     },
     "execution_count": 169,
     "metadata": {},
     "output_type": "execute_result"
    },
    {
     "data": {
      "image/png": "[encoded data removed]",
      "text/plain": [
       "<Figure size 432x288 with 1 Axes>"
      ]
     },
     "metadata": {
      "needs_background": "light"
     },
     "output_type": "display_data"
    }
   ],
   "source": [
    "sales_channel_response_rate = data_clean.groupby('response_binary')['sales channel'].value_counts(normalize=True).unstack('sales channel')\n",
    "\n",
    "sales_channel_response_rate\n",
    "\n",
    "sales_channel_response_rate.plot(kind='bar')\n"
   ]
  },
  {
   "cell_type": "code",
   "execution_count": 154,
   "metadata": {},
   "outputs": [
    {
     "data": {
      "image/png": "[encoded data removed]",
      "text/plain": [
       "<Figure size 432x288 with 1 Axes>"
      ]
     },
     "metadata": {
      "needs_background": "light"
     },
     "output_type": "display_data"
    }
   ],
   "source": [
    "sns.barplot(x='response_binary', y='total claim amount', data=data_clean)\n",
    "plt.show() "
   ]
  },
  {
   "cell_type": "code",
   "execution_count": 152,
   "metadata": {},
   "outputs": [
    {
     "data": {
      "image/png": "[encoded data removed]",
      "text/plain": [
       "<Figure size 432x288 with 1 Axes>"
      ]
     },
     "metadata": {
      "needs_background": "light"
     },
     "output_type": "display_data"
    }
   ],
   "source": [
    "sns.barplot(x='response_binary', y='income', data=data_clean)\n",
    "plt.show() "
   ]
  }
 ],
 "metadata": {
  "kernelspec": {
   "display_name": "Python 3.9.4 64-bit",
   "language": "python",
   "name": "python3"
  },
  "language_info": {
   "codemirror_mode": {
    "name": "ipython",
    "version": 3
   },
   "file_extension": ".py",
   "mimetype": "text/x-python",
   "name": "python",
   "nbconvert_exporter": "python",
   "pygments_lexer": "ipython3",
   "version": "3.9.4"
  },
  "orig_nbformat": 4,
  "vscode": {
   "interpreter": {
    "hash": "aee8b7b246df8f9039afb4144a1f6fd8d2ca17a180786b69acc140d282b71a49"
   }
  }
 },
 "nbformat": 4,
 "nbformat_minor": 2
}
